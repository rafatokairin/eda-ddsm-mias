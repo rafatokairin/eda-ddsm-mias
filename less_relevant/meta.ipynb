{
 "cells": [
  {
   "cell_type": "code",
   "execution_count": 34,
   "metadata": {},
   "outputs": [],
   "source": [
    "from mpl_toolkits.mplot3d import Axes3D\n",
    "from sklearn.preprocessing import StandardScaler\n",
    "import matplotlib.pyplot as plt # plot\n",
    "import numpy as np # álgebra linear\n",
    "import os # acesso ao diretório\n",
    "import pandas as pd # processamento dos dados .csv\n",
    "import math\n",
    "from starter_pack.func_analysis import plotPerColumnDistribution, plotCorrelationMatrix, plotScatterMatrix"
   ]
  },
  {
   "cell_type": "markdown",
   "metadata": {},
   "source": [
    "### Vamos verificar 2nd arquivo: /kaggle/input/csv/meta.csv"
   ]
  },
  {
   "cell_type": "code",
   "execution_count": 35,
   "metadata": {},
   "outputs": [
    {
     "name": "stdout",
     "output_type": "stream",
     "text": [
      "There are 1000 rows and 9 columns\n"
     ]
    }
   ],
   "source": [
    "nRowsRead = 1000 # especifique 'None' se quiser ler o arquivo inteiro\n",
    "# meta.csv pode ter mais linhas na realidade, mas estamos carregando/visualizando apenas as primeiras 1000 linhas\n",
    "df2 = pd.read_csv('/home/rafatokairin/uni-programs/ic/csv/meta.csv', delimiter=',', nrows = nRowsRead)\n",
    "df2.dataframeName = 'meta.csv'\n",
    "nRow, nCol = df2.shape\n",
    "print(f'There are {nRow} rows and {nCol} columns')"
   ]
  },
  {
   "cell_type": "markdown",
   "metadata": {},
   "source": [
    "Vamos dar uma olhada rápida em como os dados se apresentam:"
   ]
  },
  {
   "cell_type": "code",
   "execution_count": 36,
   "metadata": {},
   "outputs": [
    {
     "data": {
      "text/html": [
       "<div>\n",
       "<style scoped>\n",
       "    .dataframe tbody tr th:only-of-type {\n",
       "        vertical-align: middle;\n",
       "    }\n",
       "\n",
       "    .dataframe tbody tr th {\n",
       "        vertical-align: top;\n",
       "    }\n",
       "\n",
       "    .dataframe thead th {\n",
       "        text-align: right;\n",
       "    }\n",
       "</style>\n",
       "<table border=\"1\" class=\"dataframe\">\n",
       "  <thead>\n",
       "    <tr style=\"text-align: right;\">\n",
       "      <th></th>\n",
       "      <th>SeriesInstanceUID</th>\n",
       "      <th>StudyInstanceUID</th>\n",
       "      <th>Modality</th>\n",
       "      <th>SeriesDescription</th>\n",
       "      <th>BodyPartExamined</th>\n",
       "      <th>SeriesNumber</th>\n",
       "      <th>Collection</th>\n",
       "      <th>Visibility</th>\n",
       "      <th>ImageCount</th>\n",
       "    </tr>\n",
       "  </thead>\n",
       "  <tbody>\n",
       "    <tr>\n",
       "      <th>0</th>\n",
       "      <td>1.3.6.1.4.1.9590.100.1.2.117041576511324414842...</td>\n",
       "      <td>1.3.6.1.4.1.9590.100.1.2.229361142710768138411...</td>\n",
       "      <td>MG</td>\n",
       "      <td>ROI mask images</td>\n",
       "      <td>BREAST</td>\n",
       "      <td>1</td>\n",
       "      <td>CBIS-DDSM</td>\n",
       "      <td>1</td>\n",
       "      <td>2</td>\n",
       "    </tr>\n",
       "    <tr>\n",
       "      <th>1</th>\n",
       "      <td>1.3.6.1.4.1.9590.100.1.2.438738396107617880132...</td>\n",
       "      <td>1.3.6.1.4.1.9590.100.1.2.195593486612988388325...</td>\n",
       "      <td>MG</td>\n",
       "      <td>ROI mask images</td>\n",
       "      <td>BREAST</td>\n",
       "      <td>1</td>\n",
       "      <td>CBIS-DDSM</td>\n",
       "      <td>1</td>\n",
       "      <td>2</td>\n",
       "    </tr>\n",
       "    <tr>\n",
       "      <th>2</th>\n",
       "      <td>1.3.6.1.4.1.9590.100.1.2.767416741131676463382...</td>\n",
       "      <td>1.3.6.1.4.1.9590.100.1.2.257901172612530623323...</td>\n",
       "      <td>MG</td>\n",
       "      <td>ROI mask images</td>\n",
       "      <td>BREAST</td>\n",
       "      <td>1</td>\n",
       "      <td>CBIS-DDSM</td>\n",
       "      <td>1</td>\n",
       "      <td>2</td>\n",
       "    </tr>\n",
       "    <tr>\n",
       "      <th>3</th>\n",
       "      <td>1.3.6.1.4.1.9590.100.1.2.296931352612305599800...</td>\n",
       "      <td>1.3.6.1.4.1.9590.100.1.2.109468616710242115222...</td>\n",
       "      <td>MG</td>\n",
       "      <td>ROI mask images</td>\n",
       "      <td>BREAST</td>\n",
       "      <td>1</td>\n",
       "      <td>CBIS-DDSM</td>\n",
       "      <td>1</td>\n",
       "      <td>2</td>\n",
       "    </tr>\n",
       "    <tr>\n",
       "      <th>4</th>\n",
       "      <td>1.3.6.1.4.1.9590.100.1.2.436657670120353100077...</td>\n",
       "      <td>1.3.6.1.4.1.9590.100.1.2.380627129513562450304...</td>\n",
       "      <td>MG</td>\n",
       "      <td>ROI mask images</td>\n",
       "      <td>BREAST</td>\n",
       "      <td>1</td>\n",
       "      <td>CBIS-DDSM</td>\n",
       "      <td>1</td>\n",
       "      <td>2</td>\n",
       "    </tr>\n",
       "  </tbody>\n",
       "</table>\n",
       "</div>"
      ],
      "text/plain": [
       "                                   SeriesInstanceUID  \\\n",
       "0  1.3.6.1.4.1.9590.100.1.2.117041576511324414842...   \n",
       "1  1.3.6.1.4.1.9590.100.1.2.438738396107617880132...   \n",
       "2  1.3.6.1.4.1.9590.100.1.2.767416741131676463382...   \n",
       "3  1.3.6.1.4.1.9590.100.1.2.296931352612305599800...   \n",
       "4  1.3.6.1.4.1.9590.100.1.2.436657670120353100077...   \n",
       "\n",
       "                                    StudyInstanceUID Modality  \\\n",
       "0  1.3.6.1.4.1.9590.100.1.2.229361142710768138411...       MG   \n",
       "1  1.3.6.1.4.1.9590.100.1.2.195593486612988388325...       MG   \n",
       "2  1.3.6.1.4.1.9590.100.1.2.257901172612530623323...       MG   \n",
       "3  1.3.6.1.4.1.9590.100.1.2.109468616710242115222...       MG   \n",
       "4  1.3.6.1.4.1.9590.100.1.2.380627129513562450304...       MG   \n",
       "\n",
       "  SeriesDescription BodyPartExamined  SeriesNumber Collection  Visibility  \\\n",
       "0   ROI mask images           BREAST             1  CBIS-DDSM           1   \n",
       "1   ROI mask images           BREAST             1  CBIS-DDSM           1   \n",
       "2   ROI mask images           BREAST             1  CBIS-DDSM           1   \n",
       "3   ROI mask images           BREAST             1  CBIS-DDSM           1   \n",
       "4   ROI mask images           BREAST             1  CBIS-DDSM           1   \n",
       "\n",
       "   ImageCount  \n",
       "0           2  \n",
       "1           2  \n",
       "2           2  \n",
       "3           2  \n",
       "4           2  "
      ]
     },
     "execution_count": 36,
     "metadata": {},
     "output_type": "execute_result"
    }
   ],
   "source": [
    "df2.head(5)"
   ]
  },
  {
   "cell_type": "code",
   "execution_count": 37,
   "metadata": {},
   "outputs": [
    {
     "data": {
      "text/plain": [
       "(1000, 9)"
      ]
     },
     "execution_count": 37,
     "metadata": {},
     "output_type": "execute_result"
    }
   ],
   "source": [
    "# dimensões do arquivo\n",
    "df2.shape"
   ]
  },
  {
   "cell_type": "code",
   "execution_count": 38,
   "metadata": {},
   "outputs": [
    {
     "name": "stdout",
     "output_type": "stream",
     "text": [
      "<class 'pandas.core.frame.DataFrame'>\n",
      "RangeIndex: 1000 entries, 0 to 999\n",
      "Data columns (total 9 columns):\n",
      " #   Column             Non-Null Count  Dtype \n",
      "---  ------             --------------  ----- \n",
      " 0   SeriesInstanceUID  1000 non-null   object\n",
      " 1   StudyInstanceUID   1000 non-null   object\n",
      " 2   Modality           1000 non-null   object\n",
      " 3   SeriesDescription  1000 non-null   object\n",
      " 4   BodyPartExamined   1000 non-null   object\n",
      " 5   SeriesNumber       1000 non-null   int64 \n",
      " 6   Collection         1000 non-null   object\n",
      " 7   Visibility         1000 non-null   int64 \n",
      " 8   ImageCount         1000 non-null   int64 \n",
      "dtypes: int64(3), object(6)\n",
      "memory usage: 70.4+ KB\n"
     ]
    }
   ],
   "source": [
    "# informações do arquivo\n",
    "df2.info()"
   ]
  },
  {
   "cell_type": "code",
   "execution_count": 39,
   "metadata": {},
   "outputs": [
    {
     "data": {
      "text/plain": [
       "SeriesInstanceUID    0\n",
       "StudyInstanceUID     0\n",
       "Modality             0\n",
       "SeriesDescription    0\n",
       "BodyPartExamined     0\n",
       "SeriesNumber         0\n",
       "Collection           0\n",
       "Visibility           0\n",
       "ImageCount           0\n",
       "dtype: int64"
      ]
     },
     "execution_count": 39,
     "metadata": {},
     "output_type": "execute_result"
    }
   ],
   "source": [
    "df2.isnull().sum()"
   ]
  },
  {
   "cell_type": "markdown",
   "metadata": {},
   "source": [
    "Verificar os valores únicos em cada coluna"
   ]
  },
  {
   "cell_type": "code",
   "execution_count": 40,
   "metadata": {},
   "outputs": [
    {
     "name": "stdout",
     "output_type": "stream",
     "text": [
      "SeriesInstanceUID : 1000\n",
      "StudyInstanceUID : 1000\n",
      "Modality : 1\n",
      "SeriesDescription : 3\n",
      "BodyPartExamined : 1\n",
      "SeriesNumber : 1\n",
      "Collection : 1\n",
      "Visibility : 1\n",
      "ImageCount : 2\n"
     ]
    }
   ],
   "source": [
    "valores_unicos = []\n",
    "for i in df2.columns[0:10].tolist():\n",
    "    print(i, ':', len(df2[i].astype(str).value_counts()))\n",
    "    valores_unicos.append(len(df2[i].astype(str).value_counts()))"
   ]
  },
  {
   "cell_type": "code",
   "execution_count": 41,
   "metadata": {},
   "outputs": [
    {
     "data": {
      "text/html": [
       "<div>\n",
       "<style scoped>\n",
       "    .dataframe tbody tr th:only-of-type {\n",
       "        vertical-align: middle;\n",
       "    }\n",
       "\n",
       "    .dataframe tbody tr th {\n",
       "        vertical-align: top;\n",
       "    }\n",
       "\n",
       "    .dataframe thead th {\n",
       "        text-align: right;\n",
       "    }\n",
       "</style>\n",
       "<table border=\"1\" class=\"dataframe\">\n",
       "  <thead>\n",
       "    <tr style=\"text-align: right;\">\n",
       "      <th></th>\n",
       "      <th>SeriesNumber</th>\n",
       "      <th>Visibility</th>\n",
       "      <th>ImageCount</th>\n",
       "    </tr>\n",
       "  </thead>\n",
       "  <tbody>\n",
       "    <tr>\n",
       "      <th>count</th>\n",
       "      <td>1000.0</td>\n",
       "      <td>1000.0</td>\n",
       "      <td>1000.000000</td>\n",
       "    </tr>\n",
       "    <tr>\n",
       "      <th>mean</th>\n",
       "      <td>1.0</td>\n",
       "      <td>1.0</td>\n",
       "      <td>1.841000</td>\n",
       "    </tr>\n",
       "    <tr>\n",
       "      <th>std</th>\n",
       "      <td>0.0</td>\n",
       "      <td>0.0</td>\n",
       "      <td>0.365859</td>\n",
       "    </tr>\n",
       "    <tr>\n",
       "      <th>min</th>\n",
       "      <td>1.0</td>\n",
       "      <td>1.0</td>\n",
       "      <td>1.000000</td>\n",
       "    </tr>\n",
       "    <tr>\n",
       "      <th>25%</th>\n",
       "      <td>1.0</td>\n",
       "      <td>1.0</td>\n",
       "      <td>2.000000</td>\n",
       "    </tr>\n",
       "    <tr>\n",
       "      <th>50%</th>\n",
       "      <td>1.0</td>\n",
       "      <td>1.0</td>\n",
       "      <td>2.000000</td>\n",
       "    </tr>\n",
       "    <tr>\n",
       "      <th>75%</th>\n",
       "      <td>1.0</td>\n",
       "      <td>1.0</td>\n",
       "      <td>2.000000</td>\n",
       "    </tr>\n",
       "    <tr>\n",
       "      <th>max</th>\n",
       "      <td>1.0</td>\n",
       "      <td>1.0</td>\n",
       "      <td>2.000000</td>\n",
       "    </tr>\n",
       "  </tbody>\n",
       "</table>\n",
       "</div>"
      ],
      "text/plain": [
       "       SeriesNumber  Visibility   ImageCount\n",
       "count        1000.0      1000.0  1000.000000\n",
       "mean            1.0         1.0     1.841000\n",
       "std             0.0         0.0     0.365859\n",
       "min             1.0         1.0     1.000000\n",
       "25%             1.0         1.0     2.000000\n",
       "50%             1.0         1.0     2.000000\n",
       "75%             1.0         1.0     2.000000\n",
       "max             1.0         1.0     2.000000"
      ]
     },
     "execution_count": 41,
     "metadata": {},
     "output_type": "execute_result"
    }
   ],
   "source": [
    "df2.describe()"
   ]
  },
  {
   "cell_type": "markdown",
   "metadata": {},
   "source": [
    "Gráficos de distribuição (histograma/gráfico de barras) das colunas amostradas:"
   ]
  },
  {
   "cell_type": "code",
   "execution_count": 42,
   "metadata": {},
   "outputs": [
    {
     "data": {
      "image/png": "[encoded data removed]",
      "text/plain": [
       "<Figure size 2400x640 with 2 Axes>"
      ]
     },
     "metadata": {},
     "output_type": "display_data"
    }
   ],
   "source": [
    "plotPerColumnDistribution(df2, 10, 5)"
   ]
  },
  {
   "cell_type": "markdown",
   "metadata": {},
   "source": [
    "Matriz de correlação:"
   ]
  },
  {
   "cell_type": "code",
   "execution_count": 43,
   "metadata": {},
   "outputs": [
    {
     "name": "stdout",
     "output_type": "stream",
     "text": [
      "No correlation plots shown: The number of non-NaN or constant columns (1) is less than 2\n"
     ]
    }
   ],
   "source": [
    "plotCorrelationMatrix(df2, 8)"
   ]
  },
  {
   "cell_type": "markdown",
   "metadata": {},
   "source": [
    "Gráficos de dispersão e densidade:"
   ]
  },
  {
   "cell_type": "code",
   "execution_count": 44,
   "metadata": {},
   "outputs": [
    {
     "data": {
      "image/png": "[encoded data removed]",
      "text/plain": [
       "<Figure size 900x900 with 1 Axes>"
      ]
     },
     "metadata": {},
     "output_type": "display_data"
    }
   ],
   "source": [
    "plotScatterMatrix(df2, 9, 10)"
   ]
  }
 ],
 "metadata": {
  "kernelspec": {
   "display_name": "Python 3",
   "language": "python",
   "name": "python3"
  },
  "language_info": {
   "codemirror_mode": {
    "name": "ipython",
    "version": 3
   },
   "file_extension": ".py",
   "mimetype": "text/x-python",
   "name": "python",
   "nbconvert_exporter": "python",
   "pygments_lexer": "ipython3",
   "version": "3.10.12"
  }
 },
 "nbformat": 4,
 "nbformat_minor": 2
}
